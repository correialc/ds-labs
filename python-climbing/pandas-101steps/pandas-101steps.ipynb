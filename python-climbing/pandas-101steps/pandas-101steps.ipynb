{
 "nbformat": 4,
 "nbformat_minor": 2,
 "metadata": {
  "language_info": {
   "name": "python",
   "codemirror_mode": {
    "name": "ipython",
    "version": 3
   },
   "version": "3.7.7-final"
  },
  "orig_nbformat": 2,
  "file_extension": ".py",
  "mimetype": "text/x-python",
  "name": "python",
  "npconvert_exporter": "python",
  "pygments_lexer": "ipython3",
  "version": 3,
  "kernelspec": {
   "name": "python3",
   "display_name": "Python 3"
  }
 },
 "cells": [
  {
   "cell_type": "markdown",
   "metadata": {},
   "source": [
    "# 101 Pandas Exercises"
   ]
  },
  {
   "cell_type": "markdown",
   "metadata": {},
   "source": [
    "### Source: [Selva Prabhakaran on Machine Learning Plus](https://www.machinelearningplus.com/python/101-pandas-exercises-python/)"
   ]
  },
  {
   "cell_type": "markdown",
   "metadata": {},
   "source": [
    "### 001 - L1: Import Pandas and print the version number"
   ]
  },
  {
   "cell_type": "code",
   "execution_count": 3,
   "metadata": {},
   "outputs": [],
   "source": [
    "import pandas as pd\n",
    "import numpy as np"
   ]
  },
  {
   "cell_type": "code",
   "execution_count": 5,
   "metadata": {},
   "outputs": [
    {
     "output_type": "stream",
     "name": "stdout",
     "text": "1.0.3\n"
    }
   ],
   "source": [
    "print(pd.__version__)"
   ]
  },
  {
   "cell_type": "markdown",
   "metadata": {},
   "source": [
    "### 002 - L1: Create a pandas series from each of the items below: a list, numpy and a dictionary"
   ]
  },
  {
   "cell_type": "code",
   "execution_count": 8,
   "metadata": {},
   "outputs": [],
   "source": [
    "import numpy as np\n",
    "mylist = list('abcedfghijklmnopqrstuvwxyz')\n",
    "myarr = np.arange(26)\n",
    "mydict = dict(zip(mylist, myarr))"
   ]
  },
  {
   "cell_type": "code",
   "execution_count": 12,
   "metadata": {},
   "outputs": [],
   "source": [
    "s1 = pd.Series(mylist)\n",
    "s2 = pd.Series(myarr)\n",
    "s3 = pd.Series(mydict)"
   ]
  },
  {
   "cell_type": "markdown",
   "metadata": {},
   "source": [
    "### 003 - L1: Convert the series ser into a dataframe with its index as another column on the dataframe"
   ]
  },
  {
   "cell_type": "code",
   "execution_count": 18,
   "metadata": {},
   "outputs": [],
   "source": [
    "mylist = list('abcedfghijklmnopqrstuvwxyz')\n",
    "myarr = np.arange(26)\n",
    "mydict = dict(zip(mylist, myarr))\n",
    "ser = pd.Series(mydict)"
   ]
  },
  {
   "cell_type": "code",
   "execution_count": 25,
   "metadata": {},
   "outputs": [
    {
     "output_type": "execute_result",
     "data": {
      "text/plain": "    0\na   0\nb   1\nc   2\ne   3\nd   4\nf   5\ng   6\nh   7\ni   8\nj   9\nk  10\nl  11\nm  12\nn  13\no  14\np  15\nq  16\nr  17\ns  18\nt  19\nu  20\nv  21\nw  22\nx  23\ny  24\nz  25",
      "text/html": "<div>\n<style scoped>\n    .dataframe tbody tr th:only-of-type {\n        vertical-align: middle;\n    }\n\n    .dataframe tbody tr th {\n        vertical-align: top;\n    }\n\n    .dataframe thead th {\n        text-align: right;\n    }\n</style>\n<table border=\"1\" class=\"dataframe\">\n  <thead>\n    <tr style=\"text-align: right;\">\n      <th></th>\n      <th>0</th>\n    </tr>\n  </thead>\n  <tbody>\n    <tr>\n      <th>a</th>\n      <td>0</td>\n    </tr>\n    <tr>\n      <th>b</th>\n      <td>1</td>\n    </tr>\n    <tr>\n      <th>c</th>\n      <td>2</td>\n    </tr>\n    <tr>\n      <th>e</th>\n      <td>3</td>\n    </tr>\n    <tr>\n      <th>d</th>\n      <td>4</td>\n    </tr>\n    <tr>\n      <th>f</th>\n      <td>5</td>\n    </tr>\n    <tr>\n      <th>g</th>\n      <td>6</td>\n    </tr>\n    <tr>\n      <th>h</th>\n      <td>7</td>\n    </tr>\n    <tr>\n      <th>i</th>\n      <td>8</td>\n    </tr>\n    <tr>\n      <th>j</th>\n      <td>9</td>\n    </tr>\n    <tr>\n      <th>k</th>\n      <td>10</td>\n    </tr>\n    <tr>\n      <th>l</th>\n      <td>11</td>\n    </tr>\n    <tr>\n      <th>m</th>\n      <td>12</td>\n    </tr>\n    <tr>\n      <th>n</th>\n      <td>13</td>\n    </tr>\n    <tr>\n      <th>o</th>\n      <td>14</td>\n    </tr>\n    <tr>\n      <th>p</th>\n      <td>15</td>\n    </tr>\n    <tr>\n      <th>q</th>\n      <td>16</td>\n    </tr>\n    <tr>\n      <th>r</th>\n      <td>17</td>\n    </tr>\n    <tr>\n      <th>s</th>\n      <td>18</td>\n    </tr>\n    <tr>\n      <th>t</th>\n      <td>19</td>\n    </tr>\n    <tr>\n      <th>u</th>\n      <td>20</td>\n    </tr>\n    <tr>\n      <th>v</th>\n      <td>21</td>\n    </tr>\n    <tr>\n      <th>w</th>\n      <td>22</td>\n    </tr>\n    <tr>\n      <th>x</th>\n      <td>23</td>\n    </tr>\n    <tr>\n      <th>y</th>\n      <td>24</td>\n    </tr>\n    <tr>\n      <th>z</th>\n      <td>25</td>\n    </tr>\n  </tbody>\n</table>\n</div>"
     },
     "metadata": {},
     "execution_count": 25
    }
   ],
   "source": [
    "pd.DataFrame(ser,index=ser.index)"
   ]
  },
  {
   "cell_type": "markdown",
   "metadata": {},
   "source": [
    "### 004 - L1: Combine ser1 and ser2 to form a dataframe"
   ]
  },
  {
   "cell_type": "code",
   "execution_count": 13,
   "metadata": {},
   "outputs": [],
   "source": [
    "ser1 = pd.Series(list('abcedfghijklmnopqrstuvwxyz'))\n",
    "ser2 = pd.Series(np.arange(26))"
   ]
  },
  {
   "cell_type": "code",
   "execution_count": 14,
   "metadata": {},
   "outputs": [
    {
     "output_type": "execute_result",
     "data": {
      "text/plain": "0     a\n1     b\n2     c\n3     e\n4     d\n5     f\n6     g\n7     h\n8     i\n9     j\n10    k\n11    l\n12    m\n13    n\n14    o\n15    p\n16    q\n17    r\n18    s\n19    t\n20    u\n21    v\n22    w\n23    x\n24    y\n25    z\ndtype: object"
     },
     "metadata": {},
     "execution_count": 14
    }
   ],
   "source": [
    "ser1"
   ]
  },
  {
   "cell_type": "code",
   "execution_count": 19,
   "metadata": {},
   "outputs": [],
   "source": [
    "df = pd.concat([ser1,ser2], axis=1) # Alternative: df.DataFrame({'col1':ser1, 'col2': ser2})"
   ]
  },
  {
   "cell_type": "code",
   "execution_count": 20,
   "metadata": {},
   "outputs": [
    {
     "output_type": "execute_result",
     "data": {
      "text/plain": "    0   1\n0   a   0\n1   b   1\n2   c   2\n3   e   3\n4   d   4\n5   f   5\n6   g   6\n7   h   7\n8   i   8\n9   j   9\n10  k  10\n11  l  11\n12  m  12\n13  n  13\n14  o  14\n15  p  15\n16  q  16\n17  r  17\n18  s  18\n19  t  19\n20  u  20\n21  v  21\n22  w  22\n23  x  23\n24  y  24\n25  z  25",
      "text/html": "<div>\n<style scoped>\n    .dataframe tbody tr th:only-of-type {\n        vertical-align: middle;\n    }\n\n    .dataframe tbody tr th {\n        vertical-align: top;\n    }\n\n    .dataframe thead th {\n        text-align: right;\n    }\n</style>\n<table border=\"1\" class=\"dataframe\">\n  <thead>\n    <tr style=\"text-align: right;\">\n      <th></th>\n      <th>0</th>\n      <th>1</th>\n    </tr>\n  </thead>\n  <tbody>\n    <tr>\n      <th>0</th>\n      <td>a</td>\n      <td>0</td>\n    </tr>\n    <tr>\n      <th>1</th>\n      <td>b</td>\n      <td>1</td>\n    </tr>\n    <tr>\n      <th>2</th>\n      <td>c</td>\n      <td>2</td>\n    </tr>\n    <tr>\n      <th>3</th>\n      <td>e</td>\n      <td>3</td>\n    </tr>\n    <tr>\n      <th>4</th>\n      <td>d</td>\n      <td>4</td>\n    </tr>\n    <tr>\n      <th>5</th>\n      <td>f</td>\n      <td>5</td>\n    </tr>\n    <tr>\n      <th>6</th>\n      <td>g</td>\n      <td>6</td>\n    </tr>\n    <tr>\n      <th>7</th>\n      <td>h</td>\n      <td>7</td>\n    </tr>\n    <tr>\n      <th>8</th>\n      <td>i</td>\n      <td>8</td>\n    </tr>\n    <tr>\n      <th>9</th>\n      <td>j</td>\n      <td>9</td>\n    </tr>\n    <tr>\n      <th>10</th>\n      <td>k</td>\n      <td>10</td>\n    </tr>\n    <tr>\n      <th>11</th>\n      <td>l</td>\n      <td>11</td>\n    </tr>\n    <tr>\n      <th>12</th>\n      <td>m</td>\n      <td>12</td>\n    </tr>\n    <tr>\n      <th>13</th>\n      <td>n</td>\n      <td>13</td>\n    </tr>\n    <tr>\n      <th>14</th>\n      <td>o</td>\n      <td>14</td>\n    </tr>\n    <tr>\n      <th>15</th>\n      <td>p</td>\n      <td>15</td>\n    </tr>\n    <tr>\n      <th>16</th>\n      <td>q</td>\n      <td>16</td>\n    </tr>\n    <tr>\n      <th>17</th>\n      <td>r</td>\n      <td>17</td>\n    </tr>\n    <tr>\n      <th>18</th>\n      <td>s</td>\n      <td>18</td>\n    </tr>\n    <tr>\n      <th>19</th>\n      <td>t</td>\n      <td>19</td>\n    </tr>\n    <tr>\n      <th>20</th>\n      <td>u</td>\n      <td>20</td>\n    </tr>\n    <tr>\n      <th>21</th>\n      <td>v</td>\n      <td>21</td>\n    </tr>\n    <tr>\n      <th>22</th>\n      <td>w</td>\n      <td>22</td>\n    </tr>\n    <tr>\n      <th>23</th>\n      <td>x</td>\n      <td>23</td>\n    </tr>\n    <tr>\n      <th>24</th>\n      <td>y</td>\n      <td>24</td>\n    </tr>\n    <tr>\n      <th>25</th>\n      <td>z</td>\n      <td>25</td>\n    </tr>\n  </tbody>\n</table>\n</div>"
     },
     "metadata": {},
     "execution_count": 20
    }
   ],
   "source": [
    "df"
   ]
  },
  {
   "cell_type": "markdown",
   "metadata": {},
   "source": [
    "### 005 - L1: Give a name to the series *ser* calling it *alphabets*"
   ]
  },
  {
   "cell_type": "code",
   "execution_count": 21,
   "metadata": {},
   "outputs": [],
   "source": [
    "ser = pd.Series(list('abcedfghijklmnopqrstuvwxyz'))"
   ]
  },
  {
   "cell_type": "code",
   "execution_count": 23,
   "metadata": {},
   "outputs": [],
   "source": [
    "ser.name = \"alphabets\""
   ]
  },
  {
   "cell_type": "code",
   "execution_count": 24,
   "metadata": {},
   "outputs": [
    {
     "output_type": "execute_result",
     "data": {
      "text/plain": "0     a\n1     b\n2     c\n3     e\n4     d\n5     f\n6     g\n7     h\n8     i\n9     j\n10    k\n11    l\n12    m\n13    n\n14    o\n15    p\n16    q\n17    r\n18    s\n19    t\n20    u\n21    v\n22    w\n23    x\n24    y\n25    z\nName: alphabets, dtype: object"
     },
     "metadata": {},
     "execution_count": 24
    }
   ],
   "source": []
  },
  {
   "cell_type": "markdown",
   "metadata": {},
   "source": [
    "### 006 - L2: From ser1 remove items present in ser2"
   ]
  },
  {
   "cell_type": "code",
   "execution_count": 25,
   "metadata": {},
   "outputs": [],
   "source": [
    "ser1 = pd.Series([1, 2, 3, 4, 5])\n",
    "ser2 = pd.Series([4, 5, 6, 7, 8])"
   ]
  },
  {
   "cell_type": "code",
   "execution_count": 31,
   "metadata": {},
   "outputs": [
    {
     "output_type": "execute_result",
     "data": {
      "text/plain": "0    1\n1    2\n2    3\ndtype: int64"
     },
     "metadata": {},
     "execution_count": 31
    }
   ],
   "source": [
    "ser1[~ser1.isin(ser2)]"
   ]
  },
  {
   "cell_type": "markdown",
   "metadata": {},
   "source": [
    "### 007 - L2: Get all items of ser1 and ser2 not common to both "
   ]
  },
  {
   "cell_type": "code",
   "execution_count": 33,
   "metadata": {},
   "outputs": [
    {
     "output_type": "execute_result",
     "data": {
      "text/plain": "0    1\n1    2\n2    3\n2    6\n3    7\n4    8\ndtype: int64"
     },
     "metadata": {},
     "execution_count": 33
    }
   ],
   "source": [
    "ser1[~ser1.isin(ser2)].append(ser2[~ser2.isin(ser1)])"
   ]
  },
  {
   "cell_type": "markdown",
   "metadata": {},
   "source": [
    "### 008 - L2: Compute the minimum, 25th percentile, median, 75th, and maximum of ser"
   ]
  },
  {
   "cell_type": "code",
   "execution_count": 34,
   "metadata": {},
   "outputs": [],
   "source": [
    "ser = pd.Series(np.random.normal(10, 5, 25))"
   ]
  },
  {
   "cell_type": "code",
   "execution_count": 36,
   "metadata": {},
   "outputs": [
    {
     "output_type": "execute_result",
     "data": {
      "text/plain": "count    25.000000\nmean     10.574738\nstd       4.770065\nmin       3.674580\n25%       7.340491\n50%       9.111537\n75%      13.643056\nmax      23.327007\ndtype: float64"
     },
     "metadata": {},
     "execution_count": 36
    }
   ],
   "source": [
    "ser.describe()"
   ]
  },
  {
   "cell_type": "markdown",
   "metadata": {},
   "source": [
    "#### Alternative:"
   ]
  },
  {
   "cell_type": "code",
   "execution_count": 42,
   "metadata": {},
   "outputs": [
    {
     "output_type": "execute_result",
     "data": {
      "text/plain": "array([ 3.6745803 ,  7.34049053,  9.11153666, 13.64305615, 23.32700728])"
     },
     "metadata": {},
     "execution_count": 42
    }
   ],
   "source": [
    "np.percentile(ser, q=[0, 25, 50, 75, 100])"
   ]
  },
  {
   "cell_type": "markdown",
   "metadata": {},
   "source": [
    "### 009 - L1: Calculte the frequency counts of each unique value ser"
   ]
  },
  {
   "cell_type": "code",
   "execution_count": 44,
   "metadata": {},
   "outputs": [],
   "source": [
    "ser = pd.Series(np.take(list('abcdefgh'), np.random.randint(8, size=30)))"
   ]
  },
  {
   "cell_type": "code",
   "execution_count": 52,
   "metadata": {},
   "outputs": [
    {
     "output_type": "execute_result",
     "data": {
      "text/plain": "h    6\ne    5\nd    5\nb    4\ng    3\nf    3\nc    3\na    1\ndtype: int64"
     },
     "metadata": {},
     "execution_count": 52
    }
   ],
   "source": [
    "ser.value_counts()"
   ]
  },
  {
   "cell_type": "markdown",
   "metadata": {},
   "source": [
    "### 010 - L2: From ser, keep the top 2 most frequent items as it is and replace everything else as *Other*"
   ]
  },
  {
   "cell_type": "code",
   "execution_count": 71,
   "metadata": {},
   "outputs": [
    {
     "output_type": "execute_result",
     "data": {
      "text/plain": "0     2\n1     3\n2     4\n3     4\n4     1\n5     2\n6     3\n7     3\n8     1\n9     3\n10    4\n11    3\ndtype: int32"
     },
     "metadata": {},
     "execution_count": 71
    }
   ],
   "source": [
    "np.random.RandomState(100)\n",
    "ser = pd.Series(np.random.randint(1, 5, [12]))\n",
    "ser"
   ]
  },
  {
   "cell_type": "code",
   "execution_count": 72,
   "metadata": {},
   "outputs": [
    {
     "output_type": "execute_result",
     "data": {
      "text/plain": "Int64Index([3, 4], dtype='int64')"
     },
     "metadata": {},
     "execution_count": 72
    }
   ],
   "source": [
    "ser.value_counts().index[:2]"
   ]
  },
  {
   "cell_type": "code",
   "execution_count": 73,
   "metadata": {},
   "outputs": [],
   "source": [
    "ser[~ser.isin(ser.value_counts().index[:2])] = \"Other\""
   ]
  },
  {
   "cell_type": "code",
   "execution_count": 74,
   "metadata": {},
   "outputs": [
    {
     "output_type": "execute_result",
     "data": {
      "text/plain": "0     Other\n1         3\n2         4\n3         4\n4     Other\n5     Other\n6         3\n7         3\n8     Other\n9         3\n10        4\n11        3\ndtype: object"
     },
     "metadata": {},
     "execution_count": 74
    }
   ],
   "source": [
    "ser"
   ]
  },
  {
   "cell_type": "markdown",
   "metadata": {},
   "source": [
    "### 011 - L2: Bin the series ser into 10 equal deciles and replace the values with the bin name"
   ]
  },
  {
   "cell_type": "markdown",
   "metadata": {},
   "source": [
    "## ?"
   ]
  },
  {
   "cell_type": "markdown",
   "metadata": {},
   "source": [
    "### 012 - L1: Reshape the series ser into a dataframe with 7 rows and 5 columns"
   ]
  },
  {
   "cell_type": "code",
   "execution_count": 75,
   "metadata": {},
   "outputs": [],
   "source": [
    "ser = pd.Series(np.random.randint(1, 10, 35))"
   ]
  },
  {
   "cell_type": "code",
   "execution_count": 81,
   "metadata": {},
   "outputs": [],
   "source": [
    "df = pd.DataFrame(ser.values.reshape(7,5))"
   ]
  },
  {
   "cell_type": "code",
   "execution_count": 82,
   "metadata": {},
   "outputs": [
    {
     "output_type": "execute_result",
     "data": {
      "text/plain": "   0  1  2  3  4\n0  4  2  2  8  6\n1  5  2  5  5  5\n2  9  5  6  9  9\n3  3  8  6  4  9\n4  6  3  2  9  3\n5  4  7  8  9  5\n6  6  3  4  6  2",
      "text/html": "<div>\n<style scoped>\n    .dataframe tbody tr th:only-of-type {\n        vertical-align: middle;\n    }\n\n    .dataframe tbody tr th {\n        vertical-align: top;\n    }\n\n    .dataframe thead th {\n        text-align: right;\n    }\n</style>\n<table border=\"1\" class=\"dataframe\">\n  <thead>\n    <tr style=\"text-align: right;\">\n      <th></th>\n      <th>0</th>\n      <th>1</th>\n      <th>2</th>\n      <th>3</th>\n      <th>4</th>\n    </tr>\n  </thead>\n  <tbody>\n    <tr>\n      <th>0</th>\n      <td>4</td>\n      <td>2</td>\n      <td>2</td>\n      <td>8</td>\n      <td>6</td>\n    </tr>\n    <tr>\n      <th>1</th>\n      <td>5</td>\n      <td>2</td>\n      <td>5</td>\n      <td>5</td>\n      <td>5</td>\n    </tr>\n    <tr>\n      <th>2</th>\n      <td>9</td>\n      <td>5</td>\n      <td>6</td>\n      <td>9</td>\n      <td>9</td>\n    </tr>\n    <tr>\n      <th>3</th>\n      <td>3</td>\n      <td>8</td>\n      <td>6</td>\n      <td>4</td>\n      <td>9</td>\n    </tr>\n    <tr>\n      <th>4</th>\n      <td>6</td>\n      <td>3</td>\n      <td>2</td>\n      <td>9</td>\n      <td>3</td>\n    </tr>\n    <tr>\n      <th>5</th>\n      <td>4</td>\n      <td>7</td>\n      <td>8</td>\n      <td>9</td>\n      <td>5</td>\n    </tr>\n    <tr>\n      <th>6</th>\n      <td>6</td>\n      <td>3</td>\n      <td>4</td>\n      <td>6</td>\n      <td>2</td>\n    </tr>\n  </tbody>\n</table>\n</div>"
     },
     "metadata": {},
     "execution_count": 82
    }
   ],
   "source": [
    "df"
   ]
  },
  {
   "cell_type": "code",
   "execution_count": null,
   "metadata": {},
   "outputs": [],
   "source": []
  }
 ]
}