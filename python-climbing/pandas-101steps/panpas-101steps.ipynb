{
 "nbformat": 4,
 "nbformat_minor": 2,
 "metadata": {
  "language_info": {
   "name": "python",
   "codemirror_mode": {
    "name": "ipython",
    "version": 3
   },
   "version": "3.7.7-final"
  },
  "orig_nbformat": 2,
  "file_extension": ".py",
  "mimetype": "text/x-python",
  "name": "python",
  "npconvert_exporter": "python",
  "pygments_lexer": "ipython3",
  "version": 3,
  "kernelspec": {
   "name": "python3",
   "display_name": "Python 3"
  }
 },
 "cells": [
  {
   "cell_type": "markdown",
   "metadata": {},
   "source": [
    "# 101 Pandas Exercises"
   ]
  },
  {
   "cell_type": "markdown",
   "metadata": {},
   "source": [
    "### Source: [Selva Prabhakaran on Machine Learning Plus](https://www.machinelearningplus.com/python/101-pandas-exercises-python/)"
   ]
  },
  {
   "cell_type": "markdown",
   "metadata": {},
   "source": [
    "### 001 - L1: Import Pandas and print the version number"
   ]
  },
  {
   "cell_type": "code",
   "execution_count": 2,
   "metadata": {},
   "outputs": [],
   "source": [
    "import pandas as pd"
   ]
  },
  {
   "cell_type": "code",
   "execution_count": 5,
   "metadata": {},
   "outputs": [
    {
     "output_type": "stream",
     "name": "stdout",
     "text": "1.0.3\n"
    }
   ],
   "source": [
    "print(pd.__version__)"
   ]
  },
  {
   "cell_type": "markdown",
   "metadata": {},
   "source": [
    "### 002 - L1: Create a pandas series from each of the items below: a list, numpy and a dictionary"
   ]
  },
  {
   "cell_type": "code",
   "execution_count": 8,
   "metadata": {},
   "outputs": [],
   "source": [
    "import numpy as np\n",
    "mylist = list('abcedfghijklmnopqrstuvwxyz')\n",
    "myarr = np.arange(26)\n",
    "mydict = dict(zip(mylist, myarr))"
   ]
  },
  {
   "cell_type": "code",
   "execution_count": 12,
   "metadata": {},
   "outputs": [],
   "source": [
    "s1 = pd.Series(mylist)\n",
    "s2 = pd.Series(myarr)\n",
    "s3 = pd.Series(mydict)"
   ]
  },
  {
   "cell_type": "markdown",
   "metadata": {},
   "source": [
    "### 003 - L1: Convert the series ser into a dataframe with its index as another column on the dataframe"
   ]
  },
  {
   "cell_type": "code",
   "execution_count": 18,
   "metadata": {},
   "outputs": [],
   "source": [
    "mylist = list('abcedfghijklmnopqrstuvwxyz')\n",
    "myarr = np.arange(26)\n",
    "mydict = dict(zip(mylist, myarr))\n",
    "ser = pd.Series(mydict)"
   ]
  },
  {
   "cell_type": "code",
   "execution_count": 25,
   "metadata": {},
   "outputs": [
    {
     "output_type": "execute_result",
     "data": {
      "text/plain": "    0\na   0\nb   1\nc   2\ne   3\nd   4\nf   5\ng   6\nh   7\ni   8\nj   9\nk  10\nl  11\nm  12\nn  13\no  14\np  15\nq  16\nr  17\ns  18\nt  19\nu  20\nv  21\nw  22\nx  23\ny  24\nz  25",
      "text/html": "<div>\n<style scoped>\n    .dataframe tbody tr th:only-of-type {\n        vertical-align: middle;\n    }\n\n    .dataframe tbody tr th {\n        vertical-align: top;\n    }\n\n    .dataframe thead th {\n        text-align: right;\n    }\n</style>\n<table border=\"1\" class=\"dataframe\">\n  <thead>\n    <tr style=\"text-align: right;\">\n      <th></th>\n      <th>0</th>\n    </tr>\n  </thead>\n  <tbody>\n    <tr>\n      <th>a</th>\n      <td>0</td>\n    </tr>\n    <tr>\n      <th>b</th>\n      <td>1</td>\n    </tr>\n    <tr>\n      <th>c</th>\n      <td>2</td>\n    </tr>\n    <tr>\n      <th>e</th>\n      <td>3</td>\n    </tr>\n    <tr>\n      <th>d</th>\n      <td>4</td>\n    </tr>\n    <tr>\n      <th>f</th>\n      <td>5</td>\n    </tr>\n    <tr>\n      <th>g</th>\n      <td>6</td>\n    </tr>\n    <tr>\n      <th>h</th>\n      <td>7</td>\n    </tr>\n    <tr>\n      <th>i</th>\n      <td>8</td>\n    </tr>\n    <tr>\n      <th>j</th>\n      <td>9</td>\n    </tr>\n    <tr>\n      <th>k</th>\n      <td>10</td>\n    </tr>\n    <tr>\n      <th>l</th>\n      <td>11</td>\n    </tr>\n    <tr>\n      <th>m</th>\n      <td>12</td>\n    </tr>\n    <tr>\n      <th>n</th>\n      <td>13</td>\n    </tr>\n    <tr>\n      <th>o</th>\n      <td>14</td>\n    </tr>\n    <tr>\n      <th>p</th>\n      <td>15</td>\n    </tr>\n    <tr>\n      <th>q</th>\n      <td>16</td>\n    </tr>\n    <tr>\n      <th>r</th>\n      <td>17</td>\n    </tr>\n    <tr>\n      <th>s</th>\n      <td>18</td>\n    </tr>\n    <tr>\n      <th>t</th>\n      <td>19</td>\n    </tr>\n    <tr>\n      <th>u</th>\n      <td>20</td>\n    </tr>\n    <tr>\n      <th>v</th>\n      <td>21</td>\n    </tr>\n    <tr>\n      <th>w</th>\n      <td>22</td>\n    </tr>\n    <tr>\n      <th>x</th>\n      <td>23</td>\n    </tr>\n    <tr>\n      <th>y</th>\n      <td>24</td>\n    </tr>\n    <tr>\n      <th>z</th>\n      <td>25</td>\n    </tr>\n  </tbody>\n</table>\n</div>"
     },
     "metadata": {},
     "execution_count": 25
    }
   ],
   "source": [
    "pd.DataFrame(ser,index=ser.index)"
   ]
  },
  {
   "cell_type": "code",
   "execution_count": null,
   "metadata": {},
   "outputs": [],
   "source": []
  }
 ]
}